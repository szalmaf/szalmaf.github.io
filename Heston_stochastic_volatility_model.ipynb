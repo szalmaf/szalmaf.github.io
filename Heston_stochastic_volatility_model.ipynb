{
  "nbformat": 4,
  "nbformat_minor": 0,
  "metadata": {
    "colab": {
      "name": "Heston-stochastic-volatility-model.ipynb",
      "provenance": [],
      "collapsed_sections": [],
      "toc_visible": true,
      "include_colab_link": true
    },
    "kernelspec": {
      "name": "python3",
      "display_name": "Python 3"
    },
    "accelerator": "GPU"
  },
  "cells": [
    {
      "cell_type": "markdown",
      "metadata": {
        "id": "view-in-github",
        "colab_type": "text"
      },
      "source": [
        "<a href=\"https://colab.research.google.com/github/szalmaf/szalmaf.github.io/blob/main/Heston_stochastic_volatility_model.ipynb\" target=\"_parent\"><img src=\"https://colab.research.google.com/assets/colab-badge.svg\" alt=\"Open In Colab\"/></a>"
      ]
    },
    {
      "cell_type": "markdown",
      "metadata": {
        "id": "b-kfVSGaggP6"
      },
      "source": [
        "<center>\n",
        "  \n",
        "# Pricing Options Using Stochastic Volatility Models \n",
        " \n",
        "## Monte Carlo Simulations in NumPy, TensorFlow and PyTorch \n",
        "  \n",
        " ### Ferenc Szalma\n",
        "  \n",
        " ### New York, NY\n",
        "\n",
        " ### May 1, 2019\n"
      ]
    },
    {
      "cell_type": "markdown",
      "metadata": {
        "id": "xo9hs4aglel2"
      },
      "source": [
        "This hands-on notebook discusses how to price equity options via integrating stochastic differential equations (SDE) using Monte Carlo (MC) simulations. We choose the Heston model, a mean-reversion stochastic volatility model, as an example to show how the machinery of SDEs, their intergration over time and Monte Carlo simulations go together to price equity options. We include several versions of the Python code which show the setup using, in the simplest case, for-loops, then vectorized versions in NumPy, and also using modern tensor libraries, such as TensorFlow and PyTorch for the sake of coding and speed comparisons."
      ]
    },
    {
      "cell_type": "markdown",
      "metadata": {
        "id": "_1iV1yLlTjFU"
      },
      "source": [
        "$\\DeclareMathOperator*{\\E}{\\mathbb{E}} % expectation\n",
        "\\DeclareMathOperator*{\\Q}{\\mathbb{Q}} % Q probability measure\n",
        "\\DeclareMathOperator*{\\F}{{\\mathcal{F}}}\n",
        "\\DeclareMathOperator{\\d}{\\mathrm{d}\\!}  % differential\n",
        "$\n",
        "\n",
        "\n",
        "# 1 - Introduction\n",
        "**Stochastic calculus** grew out of the field of the physical phenomena of diffusion [Boltzmann 1872, Einstein 1905] and was first applied to finance by Merton [Merton 1969, 1973] to understand how prices are set in the market under the classical assumption of 'equilibrium'. The celebrated Black-Scholes (BS) options pricing formula [Black and Scholes 1973], merited by a Nobel prize in 1997 in Economics, dates back to diffusion applied to contingent claims, i.e., options, when the diffusion is a Markov process. By changing the diffusion (or stochastic) paths and the underlying probability measure of the stochastic paths (which we call the pricing measure $\\Q$) according to Girsanov's theorem [Girsanov 1960], the price of an option turns out to be a simple mathematical expactation value of the pay-off of the option at the expiration of that option. This is called martingale pricing since the option's price process is a martingale stochastic process, which keeps its expectation constant over time (again, this is all true only in the pricing measure), which, in turn, equals to its initial value. This diffusion or stochastic process is characterized by a single parameter, its volatility, $\\sigma$, and, surprisingly, it does not depend on the (mean) expected return of the underlying stock contrary to what one could have thought before Black and Scholes' work. BS assumed that the volatility $\\sigma$ is constant in time, however, this is not quite true in real life, so the BS theory needs modification. Market participants have noticed a so called volatility smile, which is changing volatility across various stikes of the option having a shape of a \"smile\" or \"smirk.\" This volatility smile can be modelled if we assume that the volatility chages in time, namely it is a stochastic process itself. So the stock price process is not driven by a single stochastic differential equation but by two, one for the price and another one for the volatility that is coupled with the first, price process.\n",
        "\n",
        "Before going further and discussing the other ingredient of pricing options with MC simulations, note that, as the above paragraph shows, options pricing is not a run of the mill high school math problem, you need to patiently and carefully follow the math and the code below. Now let's move on to the other two ingredients: Monte Carlo simulations and Euler integration of differential equations.\n",
        "\n",
        "**Monte Carlo simulations** have been around as long as the atomic bomb, they are crucial in integrating functions in high dimensions by stochastically walking around in that space and making sums or averages. Indeed, MC simulation were developed in the 1940's by [Metropolis, Teller, Ulam, von Neumann] to simulate the flow (kind of diffusion) of material in an A-bomb as it reaches criticality (or to make sure it reaches criticality) and becomes less of an atomic reactor with controlled heat production but a runaway fission process producing the most energy possible in a very short amount of time. We want to use MC simulations for much tamer purposes here. Our stochastic processes are driven by Brownian motion, a continuous random process whose distribution is normal at any time, so at each time step the stock price moves such that the size of its movement comes from a normal distribution, or more precisely a function of the normal distribution where the function is determined by the specific integration technique being used (see next paragraph). These consecutive independent random steps constitute a Markov chain of the Monte Carlo process. \n",
        "\n",
        "There are many finite difference methods to integrate SDEs, less precise first order methods and more sophisticated higher order methods, which are more precise but also more convoluted. We will integrate the SDEs using the Euler method, which is a first order integration method. Euler approximately solved ordinary differential equations the simplest ways with his method in the 1760's and Maruyama [Maruyama 196.] adapted Euler's method to SDEs two centuries later. The SDE is driven by Brownian motion in the **Euler-Maruyama integration scheme**, at each time step the stock price moves by a random number pulled from an IID normal distribution as mentioned in the previous paragraph. Higher order methods such as the second order Milstein [Milstein 1976] method or Alfonsi's implicit method [Alfonzi 2010] are more difficult to picture as the normal random variable is embedded in a scheme that advances the SDE but may be more efficient when speed is really important.\n",
        "\n",
        "\n",
        "In the following ... :\n",
        "* Heston model\n",
        "* Monte Carlo simulation\n",
        "* Euler scheme\n",
        "* for-loop based code\n",
        "* vectorized in NumPy\n",
        "* vectorized in TensorFlow\n",
        "* vectorized in PyTorch\n",
        "* On the quantum computer\n",
        "* Reinforcement learning based solution\n",
        "\n",
        "\n"
      ]
    },
    {
      "cell_type": "markdown",
      "metadata": {
        "id": "3iTNWms5D2em"
      },
      "source": [
        "# 2 - Heston-stochastic-volatility-model\n",
        "\n",
        "In the notebooks I'll discuss various implementations of the Heston stochastic volatility model of pricing European call options. \n",
        "\n",
        "The Heston model goes beyond the Black-Scholes options pricing model in the sense that the constant volatility of the Black-Scholes model is replaced by a stochastic process for the volatility. This simple trick makes it possible to account for volatility smiles often seen in practice.\n",
        "\n"
      ]
    },
    {
      "cell_type": "markdown",
      "metadata": {
        "id": "6o12oRXkEcDh"
      },
      "source": [
        "## 2.1 - Mathematical description of the model\n",
        "\n",
        "The Heston stochastic volatility model is described by two coupled stochastic differential equations: one for the stock process, and another for the volatility process both driven by their respective Brownian motions:\n",
        "\n",
        "\\begin{align} \n",
        "\\d S_t & = \\sqrt{v_t} S_t \\d B_t, \\qquad S_0 > 0 \\\\\n",
        "\\d v_t & = \\kappa (\\theta-r_t) \\d t + \\sigma\\sqrt{v_t}(\\rho \\d B_t + \\sqrt{1-\\rho^2} \\d W_t), \\qquad v_0 > 0.\n",
        "\\end{align}\n",
        "\n",
        "In these two coupled stochastic differential equations:\n",
        "* $S_t$ is stock price process driven by the $B_t$ Brownian motion, \n",
        "* $v_t$ is the volatility process driven by $W_t$ Brownian motion ~~mixed with $B_t$ so that the volatility is driven by a Brownian motion that has $\\rho$ correlation with $B_t$. $W_t$ is independent of $B_t$~~.\n",
        "\n",
        "The stock price process is Generalized Geometric Brownian Motion since the volatility is a stochastic process (instead of being constant as in the Black-Scholes case).\n",
        "\n",
        "The volatility process is a CIR process, a mean reversion process which has\n",
        "* mean-reversion level $\\theta$\n",
        "* the volatility mean reverts to this level at the mean-reversion speed $\\kappa$\n",
        "* $\\sigma$ is volatility of the volatility process (vol of vol).\n",
        "\n",
        "$B$ and $W$ are two independent $\\Q$-Brownian motions generating the filtration $\\F_t$ in the ($\\Omega$, $\\F_t$, $\\Q$) probability space, where $\\Q$ is the pricing measure.\n",
        "\n",
        "Time $t$ is in the $[0, T]$ interval where $T$ is the expiry time of the option measured in years.\n",
        "\n",
        "The price of a call option, whose strike price is $K$, $c(t, s, v)$ is the conditional expectation of the final pay-off (random variable) $(S_T - K)^+$  given the $\\F_t$ filtration at time $t$, i.e., given all information up to $t$ in the $\\Q$ pricing measure:\n",
        "\n",
        "$$ c(t, S_t, v_t) = {\\E}^{\\Q}[(S_T - K)^+|{\\F}_t] $$\n",
        "\n",
        "In the following Monte Carlo simulation, I'll generate the path of the stock price $S_t$ and its volatility, $v_t$ from $t=0$ to $T$, so $\\F_t = \\F_0$, that is, no information is known after $t=0$, hence the conditional expectation above becomes a simple expectation with no condition, since ${\\E}^{\\Q}[(S_T - K)^+|{\\F}_{t=0}] = {\\E}^{\\Q}[(S_T - K)^+]$\n",
        "\n",
        "\n",
        "\n",
        "\n"
      ]
    },
    {
      "cell_type": "markdown",
      "metadata": {
        "id": "CSs55sbREh7N"
      },
      "source": [
        "## 2.2 -  Monte Carlo simulation\n",
        "\n",
        "I'll show how to integrate the coupled SDE's using the simplest integration method, the Euler method, generating MC paths and then making averages.\n",
        "\n",
        "In the first pass, I show the MC path generation using for-loops to make things more accessible to the reader, and later give a vectorized solution which can utilize the capabilities of CPU's or GPU's vector units making the algorithm 100x (?) faster.\n",
        "\n",
        "So, let's discretize the the SDEs: \n",
        "* $\\Delta$ is the time step \n",
        "* $Z'$   standard normal distributions for the $S_t$ process and \n",
        "* $Z''$ standard normal distribution independent of $Z'$, which helps make\n",
        "* $Z$ driving $v_t$ where $Z = \\rho Z' + \\sqrt{1-\\rho^2}Z''$ correlated standard normal -- its correlation with $Z'$ is $\\rho$\n",
        "\n",
        "Since $v_t$ cannot be negative, I'll replace a negative $v$ with $v=0$, which is called the *absorbing way*. (It is left to the reader as an exercise to try the *reflection way*, when a negative $v$ is replaced by $v=-v$. Try and see what you get using this way.)\n",
        "\n",
        "TODO: Write more on how Markov chain is created."
      ]
    },
    {
      "cell_type": "markdown",
      "metadata": {
        "id": "Yj4jH-YxEj-P"
      },
      "source": [
        "## 2.3 - Explicit Euler-Maruyama scheme\n",
        "\n",
        "TODO: Detail discretizetion of the price and volatility SDE\n",
        "\n",
        "\\begin{align}\n",
        "S_{i+1} & = S_i + \\sqrt{v_i} S_i \\sqrt{\\Delta} Z'   = S_i \\exp[\\sqrt{v_i}\\sqrt{\\Delta} Z' - v_i \\Delta /2]\\\\\n",
        "v_{i+1} & = v_i + \\kappa (\\theta - v_i) \\Delta + \\sigma\\sqrt{v_i}\\sqrt{\\Delta}Z\n",
        "\\end{align}"
      ]
    },
    {
      "cell_type": "markdown",
      "metadata": {
        "id": "sG1F-nwOEzIX"
      },
      "source": [
        "# 3 - Code examples"
      ]
    },
    {
      "cell_type": "markdown",
      "metadata": {
        "id": "7bRF74T4DTUp"
      },
      "source": [
        "TODO: Write intro to various MC implementations, integration schemes."
      ]
    },
    {
      "cell_type": "markdown",
      "metadata": {
        "id": "6cAkOHQtJZL_"
      },
      "source": [
        "## 3.1 - For loop based Monte Carlo"
      ]
    },
    {
      "cell_type": "code",
      "metadata": {
        "id": "IPtabZfrlVua"
      },
      "source": [
        "import random\n",
        "from math import sqrt, exp"
      ],
      "execution_count": null,
      "outputs": []
    },
    {
      "cell_type": "code",
      "metadata": {
        "id": "RbRGL5PFtt2_"
      },
      "source": [
        "random.seed(42)  # Seed random number generator"
      ],
      "execution_count": null,
      "outputs": []
    },
    {
      "cell_type": "code",
      "metadata": {
        "id": "FH_ei7zBk47m"
      },
      "source": [
        "N = 1000    # Number of time steps\n",
        "n = 10000   # Number of MC paths (10,000 in 26sec on Colab CPU, 19sec GPU)\n",
        "\n",
        "S0 = 100.   # Initial price of share of stock\n",
        "K = 100.    # Strike price of option\n",
        "v0 = 0.01   # Initial volatility\n",
        "th = 0.01   # Long time average of volatility\n",
        "k = 2.      # kappa mean reversion speed\n",
        "sig = 0.1   # vol of vol\n",
        "\n",
        "rho = -.5   # correlation coefficient of Z' and Z\n",
        "T = 1.      # expiration time from today\n",
        "\n",
        "dt = T/N    # Time step"
      ],
      "execution_count": null,
      "outputs": []
    },
    {
      "cell_type": "code",
      "metadata": {
        "id": "3UsVjo89ksuH"
      },
      "source": [
        "# Integrate equations:\n",
        "#   Euler method\n",
        "#   for-loop based (not vectorized)\n",
        "Stv = [0.] * n  # Reserve St vector of size n\n",
        "for i in range(n):  # Loop over MC paths\n",
        "  vt = v0\n",
        "  St = S0\n",
        "  for t in range(1,N):  # Generate a single MC path\n",
        "\n",
        "    Zs = random.gauss(0.,1.)  # Generate rnd numbers (Mersenne Twister algo) for S_t process\n",
        "    Zv = rho * Zs + sqrt(1 - rho**2.) * random.gauss(0., 1.)  # Rnd number for v_t process\n",
        "\n",
        "    # Euler integration\n",
        "    vt = max(vt, 0.)\n",
        "    St = St * exp( sqrt(vt * dt) * Zs - vt * dt / 2.)          # Stock price process\n",
        "    vt = vt + k * (th - vt) * dt + sig * sqrt(vt * dt) * Zv    # Volatility process\n",
        "  Stv[i] = St  # Store S_T's"
      ],
      "execution_count": null,
      "outputs": []
    },
    {
      "cell_type": "code",
      "metadata": {
        "id": "Gd0d1TNxuSOt"
      },
      "source": [
        "sum_m = lambda x: max(x - K, 0.) # option pay-off function at terminal time T\n",
        "sum_s = lambda x: max(x - K, 0.) ** 2.\n",
        "\n",
        "mean_price = sum(map(sum_m, Stv)) / n\n",
        "std_error_price  = sqrt(sum(map(sum_s, Stv)) / (n * (n - 1.)))"
      ],
      "execution_count": null,
      "outputs": []
    },
    {
      "cell_type": "code",
      "metadata": {
        "id": "vEhpJ6biuUeJ",
        "colab": {
          "base_uri": "https://localhost:8080/"
        },
        "outputId": "f7555f64-ad89-475a-f0d6-29ad6380956b"
      },
      "source": [
        "mean_price, std_error_price"
      ],
      "execution_count": null,
      "outputs": [
        {
          "output_type": "execute_result",
          "data": {
            "text/plain": [
              "(3.9140088950585765, 0.06870932165948264)"
            ]
          },
          "metadata": {
            "tags": []
          },
          "execution_count": 8
        }
      ]
    },
    {
      "cell_type": "markdown",
      "metadata": {
        "id": "H0wXk01mJLRh"
      },
      "source": [
        "## 3.2 - Vectorized Monte Carlo / NumPy"
      ]
    },
    {
      "cell_type": "code",
      "metadata": {
        "id": "pG3mlDFnKQ1o"
      },
      "source": [
        "# Quick numpy/python refresher from Karpathy at Stanford \n",
        "#   http://cs231n.github.io/python-numpy-tutorial/\n",
        "# Quick comparison of numpy and Matlab, which might be useful \n",
        "# if you are coming from the Matlab world \n",
        "#   https://docs.scipy.org/doc/numpy/user/numpy-for-matlab-users.html\n",
        "import numpy as np"
      ],
      "execution_count": null,
      "outputs": []
    },
    {
      "cell_type": "code",
      "metadata": {
        "id": "qsESY9sDJjHm"
      },
      "source": [
        "np.random.seed(42)  # Seed random number generator"
      ],
      "execution_count": null,
      "outputs": []
    },
    {
      "cell_type": "code",
      "metadata": {
        "id": "BorWLUAcJjHp"
      },
      "source": [
        "N = 1000    # Number of time steps\n",
        "n = 1000000  # Number of MC paths (1,000,000  2min35sec in Colab CPU, 1min51sec GPU; 80sec on MBP18 6 threads)\n",
        "\n",
        "S0 = 100.   # Initial price of share of stock\n",
        "K = 100.    # Strike price of option\n",
        "v0 = 0.01   # Initial volatility\n",
        "th = 0.01   # Long time average of volatility\n",
        "k = 2.      # kappa mean reversion speed\n",
        "sig = 0.1   # vol of vol\n",
        "\n",
        "rho = -.5   # correlation coefficient of Z' and Z\n",
        "T = 1.      # expiration time from today\n",
        "\n",
        "dt = T/N    # Time step"
      ],
      "execution_count": null,
      "outputs": []
    },
    {
      "cell_type": "code",
      "metadata": {
        "id": "_f1e4kZhJuAx"
      },
      "source": [
        "# Integrate equations:\n",
        "#   Euler method\n",
        "#   MC vectorized\n",
        "vt = np.ones(n) * v0\n",
        "St = np.ones(n) * S0\n",
        "for t in range(1,N):  # Generate MC paths\n",
        "\n",
        "  Zs = np.random.normal(size=n)  # Generate rnd numbers (??? rnd gen) for S_t process\n",
        "  Zv = rho * Zs + np.sqrt(1 - rho**2.) * np.random.normal(size=n)  # Rnd numbers for v_t process\n",
        "\n",
        "  # Euler integration\n",
        "  vt = np.maximum(vt, 0.)\n",
        "  St = St * np.exp( np.sqrt(vt * dt) * Zs - vt * dt / 2.)     # Stock price process\n",
        "  vt = vt + k * (th - vt) * dt + sig * np.sqrt(vt * dt) * Zv  # Volatility process\n",
        "\n",
        "mean_price = np.mean(np.maximum(St - K, 0.))\n",
        "std_error_price  = np.std(np.maximum(St - K, 0.)) / np.sqrt(n)"
      ],
      "execution_count": null,
      "outputs": []
    },
    {
      "cell_type": "code",
      "metadata": {
        "id": "Z95QdlbWKcMi",
        "colab": {
          "base_uri": "https://localhost:8080/"
        },
        "outputId": "d96bce7d-e6ff-46c8-b4e0-bcda4d9b2a4f"
      },
      "source": [
        "mean_price, std_error_price"
      ],
      "execution_count": null,
      "outputs": [
        {
          "output_type": "execute_result",
          "data": {
            "text/plain": [
              "(3.9139916791666, 0.005651208214228754)"
            ]
          },
          "metadata": {
            "tags": []
          },
          "execution_count": 13
        }
      ]
    },
    {
      "cell_type": "markdown",
      "metadata": {
        "id": "cx71VbdipnzS"
      },
      "source": [
        "## 3.3 - Vectorized Monte Carlo / TensorFlow\n"
      ]
    },
    {
      "cell_type": "code",
      "metadata": {
        "id": "rRHV5TL7XJBX",
        "colab": {
          "base_uri": "https://localhost:8080/",
          "height": 57
        },
        "outputId": "f7ff4844-54ba-4f37-ae6b-cee041d06e4c"
      },
      "source": [
        "# For TensorFlow eager execution in ver1.13 and basic tensor operations see:\n",
        "# https://www.tensorflow.org/guide/eager\n",
        "# https://www.tensorflow.org/guide/tensors\n",
        "\n",
        "import numpy as np\n",
        "import tensorflow as tf\n",
        "# tf.enable_eager_execution()\n",
        "tf.version.VERSION"
      ],
      "execution_count": 1,
      "outputs": [
        {
          "output_type": "execute_result",
          "data": {
            "application/vnd.google.colaboratory.intrinsic+json": {
              "type": "string"
            },
            "text/plain": [
              "'2.4.1'"
            ]
          },
          "metadata": {
            "tags": []
          },
          "execution_count": 1
        }
      ]
    },
    {
      "cell_type": "code",
      "metadata": {
        "id": "A-8TCQOFxSjY",
        "colab": {
          "base_uri": "https://localhost:8080/"
        },
        "outputId": "a2a85d2a-16db-4967-b271-35c73b2d8610"
      },
      "source": [
        "tf.executing_eagerly()"
      ],
      "execution_count": 2,
      "outputs": [
        {
          "output_type": "execute_result",
          "data": {
            "text/plain": [
              "True"
            ]
          },
          "metadata": {
            "tags": []
          },
          "execution_count": 2
        }
      ]
    },
    {
      "cell_type": "code",
      "metadata": {
        "id": "2NkoQMf8poqO"
      },
      "source": [
        "tf.random.set_seed(42)"
      ],
      "execution_count": 3,
      "outputs": []
    },
    {
      "cell_type": "code",
      "metadata": {
        "id": "08MVugE6rm4y"
      },
      "source": [
        "N = 1000    # Number of time steps\n",
        "n = 10000000  # Number of MC paths (1,000,000  60sec on Colab CPU, 28sec on GPU;)\n",
        "\n",
        "S0 = 100.   # Initial price of share of stock\n",
        "K = 100.    # Strike price of option\n",
        "v0 = 0.01   # Initial volatility\n",
        "th = 0.01   # Long time average of volatility\n",
        "k = 2.      # kappa mean reversion speed\n",
        "sig = 0.1   # vol of vol\n",
        "\n",
        "rho = -.5   # correlation coefficient of Z' and Z\n",
        "T = 1.      # expiration time from today\n",
        "\n",
        "dt = T/N    # Time step"
      ],
      "execution_count": 4,
      "outputs": []
    },
    {
      "cell_type": "code",
      "metadata": {
        "id": "D2-w-IQTrrpm",
        "colab": {
          "base_uri": "https://localhost:8080/",
          "height": 335
        },
        "outputId": "fc0af522-bfa3-47af-c9a4-11187747f0a6"
      },
      "source": [
        "# Integrate equations:\n",
        "#   Euler method\n",
        "#   MC vectorized\n",
        "vt = tf.ones(n, dtype=t) * v0\n",
        "St = tf.ones(n, dtype=t) * S0\n",
        "for t in range(1,N):  # Generate MC paths\n",
        "\n",
        "  Zs = tf.random.normal([n], dtype=t)  # Generate rnd numbers (??? rnd gen) for S_t process\n",
        "  Zv = rho * Zs + tf.sqrt(tf.constant(1 - rho**2., dtype=t)) * tf.random.normal([n], dtype=t)  # Rnd numbers for v_t process\n",
        "\n",
        "  # Euler integration\n",
        "  vt = tf.maximum(vt, 0.)\n",
        "  St = St * tf.exp( tf.sqrt(vt * dt) * Zs - vt * dt / 2.)     # Stock price process\n",
        "  vt = vt + k * (th - vt) * dt + sig * tf.sqrt(vt * dt) * Zv  # Volatility process\n",
        "\n",
        "mean_price = tf.reduce_sum(tf.maximum(St - K, 0.)) / n\n",
        "std_error_price  = tf.math.reduce_std(tf.maximum(St - K, 0.)) / tf.sqrt(tf.constant(n, dtype=t))"
      ],
      "execution_count": 7,
      "outputs": [
        {
          "output_type": "error",
          "ename": "InvalidArgumentError",
          "evalue": "ignored",
          "traceback": [
            "\u001b[0;31m---------------------------------------------------------------------------\u001b[0m",
            "\u001b[0;31mInvalidArgumentError\u001b[0m                      Traceback (most recent call last)",
            "\u001b[0;32m<ipython-input-7-ffaed5d902a7>\u001b[0m in \u001b[0;36m<module>\u001b[0;34m()\u001b[0m\n\u001b[1;32m     11\u001b[0m   \u001b[0;31m# Euler integration\u001b[0m\u001b[0;34m\u001b[0m\u001b[0;34m\u001b[0m\u001b[0;34m\u001b[0m\u001b[0m\n\u001b[1;32m     12\u001b[0m   \u001b[0mvt\u001b[0m \u001b[0;34m=\u001b[0m \u001b[0mtf\u001b[0m\u001b[0;34m.\u001b[0m\u001b[0mmaximum\u001b[0m\u001b[0;34m(\u001b[0m\u001b[0mvt\u001b[0m\u001b[0;34m,\u001b[0m \u001b[0;36m0.\u001b[0m\u001b[0;34m)\u001b[0m\u001b[0;34m\u001b[0m\u001b[0;34m\u001b[0m\u001b[0m\n\u001b[0;32m---> 13\u001b[0;31m   \u001b[0mSt\u001b[0m \u001b[0;34m=\u001b[0m \u001b[0mSt\u001b[0m \u001b[0;34m*\u001b[0m \u001b[0mtf\u001b[0m\u001b[0;34m.\u001b[0m\u001b[0mexp\u001b[0m\u001b[0;34m(\u001b[0m \u001b[0mtf\u001b[0m\u001b[0;34m.\u001b[0m\u001b[0msqrt\u001b[0m\u001b[0;34m(\u001b[0m\u001b[0mvt\u001b[0m \u001b[0;34m*\u001b[0m \u001b[0mdt\u001b[0m\u001b[0;34m)\u001b[0m \u001b[0;34m*\u001b[0m \u001b[0mZs\u001b[0m \u001b[0;34m-\u001b[0m \u001b[0mvt\u001b[0m \u001b[0;34m*\u001b[0m \u001b[0mdt\u001b[0m \u001b[0;34m/\u001b[0m \u001b[0;36m2.\u001b[0m\u001b[0;34m)\u001b[0m     \u001b[0;31m# Stock price process\u001b[0m\u001b[0;34m\u001b[0m\u001b[0;34m\u001b[0m\u001b[0m\n\u001b[0m\u001b[1;32m     14\u001b[0m   \u001b[0mvt\u001b[0m \u001b[0;34m=\u001b[0m \u001b[0mvt\u001b[0m \u001b[0;34m+\u001b[0m \u001b[0mk\u001b[0m \u001b[0;34m*\u001b[0m \u001b[0;34m(\u001b[0m\u001b[0mth\u001b[0m \u001b[0;34m-\u001b[0m \u001b[0mvt\u001b[0m\u001b[0;34m)\u001b[0m \u001b[0;34m*\u001b[0m \u001b[0mdt\u001b[0m \u001b[0;34m+\u001b[0m \u001b[0msig\u001b[0m \u001b[0;34m*\u001b[0m \u001b[0mtf\u001b[0m\u001b[0;34m.\u001b[0m\u001b[0msqrt\u001b[0m\u001b[0;34m(\u001b[0m\u001b[0mvt\u001b[0m \u001b[0;34m*\u001b[0m \u001b[0mdt\u001b[0m\u001b[0;34m)\u001b[0m \u001b[0;34m*\u001b[0m \u001b[0mZv\u001b[0m  \u001b[0;31m# Volatility process\u001b[0m\u001b[0;34m\u001b[0m\u001b[0;34m\u001b[0m\u001b[0m\n\u001b[1;32m     15\u001b[0m \u001b[0;34m\u001b[0m\u001b[0m\n",
            "\u001b[0;32m/usr/local/lib/python3.6/dist-packages/tensorflow/python/ops/math_ops.py\u001b[0m in \u001b[0;36mbinary_op_wrapper\u001b[0;34m(x, y)\u001b[0m\n\u001b[1;32m   1162\u001b[0m     \u001b[0;32mwith\u001b[0m \u001b[0mops\u001b[0m\u001b[0;34m.\u001b[0m\u001b[0mname_scope\u001b[0m\u001b[0;34m(\u001b[0m\u001b[0;32mNone\u001b[0m\u001b[0;34m,\u001b[0m \u001b[0mop_name\u001b[0m\u001b[0;34m,\u001b[0m \u001b[0;34m[\u001b[0m\u001b[0mx\u001b[0m\u001b[0;34m,\u001b[0m \u001b[0my\u001b[0m\u001b[0;34m]\u001b[0m\u001b[0;34m)\u001b[0m \u001b[0;32mas\u001b[0m \u001b[0mname\u001b[0m\u001b[0;34m:\u001b[0m\u001b[0;34m\u001b[0m\u001b[0;34m\u001b[0m\u001b[0m\n\u001b[1;32m   1163\u001b[0m       \u001b[0;32mtry\u001b[0m\u001b[0;34m:\u001b[0m\u001b[0;34m\u001b[0m\u001b[0;34m\u001b[0m\u001b[0m\n\u001b[0;32m-> 1164\u001b[0;31m         \u001b[0;32mreturn\u001b[0m \u001b[0mfunc\u001b[0m\u001b[0;34m(\u001b[0m\u001b[0mx\u001b[0m\u001b[0;34m,\u001b[0m \u001b[0my\u001b[0m\u001b[0;34m,\u001b[0m \u001b[0mname\u001b[0m\u001b[0;34m=\u001b[0m\u001b[0mname\u001b[0m\u001b[0;34m)\u001b[0m\u001b[0;34m\u001b[0m\u001b[0;34m\u001b[0m\u001b[0m\n\u001b[0m\u001b[1;32m   1165\u001b[0m       \u001b[0;32mexcept\u001b[0m \u001b[0;34m(\u001b[0m\u001b[0mTypeError\u001b[0m\u001b[0;34m,\u001b[0m \u001b[0mValueError\u001b[0m\u001b[0;34m)\u001b[0m \u001b[0;32mas\u001b[0m \u001b[0me\u001b[0m\u001b[0;34m:\u001b[0m\u001b[0;34m\u001b[0m\u001b[0;34m\u001b[0m\u001b[0m\n\u001b[1;32m   1166\u001b[0m         \u001b[0;31m# Even if dispatching the op failed, the RHS may be a tensor aware\u001b[0m\u001b[0;34m\u001b[0m\u001b[0;34m\u001b[0m\u001b[0;34m\u001b[0m\u001b[0m\n",
            "\u001b[0;32m/usr/local/lib/python3.6/dist-packages/tensorflow/python/ops/math_ops.py\u001b[0m in \u001b[0;36m_mul_dispatch\u001b[0;34m(x, y, name)\u001b[0m\n\u001b[1;32m   1494\u001b[0m     \u001b[0;32mreturn\u001b[0m \u001b[0msparse_tensor\u001b[0m\u001b[0;34m.\u001b[0m\u001b[0mSparseTensor\u001b[0m\u001b[0;34m(\u001b[0m\u001b[0my\u001b[0m\u001b[0;34m.\u001b[0m\u001b[0mindices\u001b[0m\u001b[0;34m,\u001b[0m \u001b[0mnew_vals\u001b[0m\u001b[0;34m,\u001b[0m \u001b[0my\u001b[0m\u001b[0;34m.\u001b[0m\u001b[0mdense_shape\u001b[0m\u001b[0;34m)\u001b[0m\u001b[0;34m\u001b[0m\u001b[0;34m\u001b[0m\u001b[0m\n\u001b[1;32m   1495\u001b[0m   \u001b[0;32melse\u001b[0m\u001b[0;34m:\u001b[0m\u001b[0;34m\u001b[0m\u001b[0;34m\u001b[0m\u001b[0m\n\u001b[0;32m-> 1496\u001b[0;31m     \u001b[0;32mreturn\u001b[0m \u001b[0mmultiply\u001b[0m\u001b[0;34m(\u001b[0m\u001b[0mx\u001b[0m\u001b[0;34m,\u001b[0m \u001b[0my\u001b[0m\u001b[0;34m,\u001b[0m \u001b[0mname\u001b[0m\u001b[0;34m=\u001b[0m\u001b[0mname\u001b[0m\u001b[0;34m)\u001b[0m\u001b[0;34m\u001b[0m\u001b[0;34m\u001b[0m\u001b[0m\n\u001b[0m\u001b[1;32m   1497\u001b[0m \u001b[0;34m\u001b[0m\u001b[0m\n\u001b[1;32m   1498\u001b[0m \u001b[0;34m\u001b[0m\u001b[0m\n",
            "\u001b[0;32m/usr/local/lib/python3.6/dist-packages/tensorflow/python/util/dispatch.py\u001b[0m in \u001b[0;36mwrapper\u001b[0;34m(*args, **kwargs)\u001b[0m\n\u001b[1;32m    199\u001b[0m     \u001b[0;34m\"\"\"Call target, and fall back on dispatchers if there is a TypeError.\"\"\"\u001b[0m\u001b[0;34m\u001b[0m\u001b[0;34m\u001b[0m\u001b[0m\n\u001b[1;32m    200\u001b[0m     \u001b[0;32mtry\u001b[0m\u001b[0;34m:\u001b[0m\u001b[0;34m\u001b[0m\u001b[0;34m\u001b[0m\u001b[0m\n\u001b[0;32m--> 201\u001b[0;31m       \u001b[0;32mreturn\u001b[0m \u001b[0mtarget\u001b[0m\u001b[0;34m(\u001b[0m\u001b[0;34m*\u001b[0m\u001b[0margs\u001b[0m\u001b[0;34m,\u001b[0m \u001b[0;34m**\u001b[0m\u001b[0mkwargs\u001b[0m\u001b[0;34m)\u001b[0m\u001b[0;34m\u001b[0m\u001b[0;34m\u001b[0m\u001b[0m\n\u001b[0m\u001b[1;32m    202\u001b[0m     \u001b[0;32mexcept\u001b[0m \u001b[0;34m(\u001b[0m\u001b[0mTypeError\u001b[0m\u001b[0;34m,\u001b[0m \u001b[0mValueError\u001b[0m\u001b[0;34m)\u001b[0m\u001b[0;34m:\u001b[0m\u001b[0;34m\u001b[0m\u001b[0;34m\u001b[0m\u001b[0m\n\u001b[1;32m    203\u001b[0m       \u001b[0;31m# Note: convert_to_eager_tensor currently raises a ValueError, not a\u001b[0m\u001b[0;34m\u001b[0m\u001b[0;34m\u001b[0m\u001b[0;34m\u001b[0m\u001b[0m\n",
            "\u001b[0;32m/usr/local/lib/python3.6/dist-packages/tensorflow/python/ops/math_ops.py\u001b[0m in \u001b[0;36mmultiply\u001b[0;34m(x, y, name)\u001b[0m\n\u001b[1;32m    516\u001b[0m   \"\"\"\n\u001b[1;32m    517\u001b[0m \u001b[0;34m\u001b[0m\u001b[0m\n\u001b[0;32m--> 518\u001b[0;31m   \u001b[0;32mreturn\u001b[0m \u001b[0mgen_math_ops\u001b[0m\u001b[0;34m.\u001b[0m\u001b[0mmul\u001b[0m\u001b[0;34m(\u001b[0m\u001b[0mx\u001b[0m\u001b[0;34m,\u001b[0m \u001b[0my\u001b[0m\u001b[0;34m,\u001b[0m \u001b[0mname\u001b[0m\u001b[0;34m)\u001b[0m\u001b[0;34m\u001b[0m\u001b[0;34m\u001b[0m\u001b[0m\n\u001b[0m\u001b[1;32m    519\u001b[0m \u001b[0;34m\u001b[0m\u001b[0m\n\u001b[1;32m    520\u001b[0m \u001b[0;34m\u001b[0m\u001b[0m\n",
            "\u001b[0;32m/usr/local/lib/python3.6/dist-packages/tensorflow/python/ops/gen_math_ops.py\u001b[0m in \u001b[0;36mmul\u001b[0;34m(x, y, name)\u001b[0m\n\u001b[1;32m   6066\u001b[0m       \u001b[0;32mreturn\u001b[0m \u001b[0m_result\u001b[0m\u001b[0;34m\u001b[0m\u001b[0;34m\u001b[0m\u001b[0m\n\u001b[1;32m   6067\u001b[0m     \u001b[0;32mexcept\u001b[0m \u001b[0m_core\u001b[0m\u001b[0;34m.\u001b[0m\u001b[0m_NotOkStatusException\u001b[0m \u001b[0;32mas\u001b[0m \u001b[0me\u001b[0m\u001b[0;34m:\u001b[0m\u001b[0;34m\u001b[0m\u001b[0;34m\u001b[0m\u001b[0m\n\u001b[0;32m-> 6068\u001b[0;31m       \u001b[0m_ops\u001b[0m\u001b[0;34m.\u001b[0m\u001b[0mraise_from_not_ok_status\u001b[0m\u001b[0;34m(\u001b[0m\u001b[0me\u001b[0m\u001b[0;34m,\u001b[0m \u001b[0mname\u001b[0m\u001b[0;34m)\u001b[0m\u001b[0;34m\u001b[0m\u001b[0;34m\u001b[0m\u001b[0m\n\u001b[0m\u001b[1;32m   6069\u001b[0m     \u001b[0;32mexcept\u001b[0m \u001b[0m_core\u001b[0m\u001b[0;34m.\u001b[0m\u001b[0m_FallbackException\u001b[0m\u001b[0;34m:\u001b[0m\u001b[0;34m\u001b[0m\u001b[0;34m\u001b[0m\u001b[0m\n\u001b[1;32m   6070\u001b[0m       \u001b[0;32mpass\u001b[0m\u001b[0;34m\u001b[0m\u001b[0;34m\u001b[0m\u001b[0m\n",
            "\u001b[0;32m/usr/local/lib/python3.6/dist-packages/tensorflow/python/framework/ops.py\u001b[0m in \u001b[0;36mraise_from_not_ok_status\u001b[0;34m(e, name)\u001b[0m\n\u001b[1;32m   6860\u001b[0m   \u001b[0mmessage\u001b[0m \u001b[0;34m=\u001b[0m \u001b[0me\u001b[0m\u001b[0;34m.\u001b[0m\u001b[0mmessage\u001b[0m \u001b[0;34m+\u001b[0m \u001b[0;34m(\u001b[0m\u001b[0;34m\" name: \"\u001b[0m \u001b[0;34m+\u001b[0m \u001b[0mname\u001b[0m \u001b[0;32mif\u001b[0m \u001b[0mname\u001b[0m \u001b[0;32mis\u001b[0m \u001b[0;32mnot\u001b[0m \u001b[0;32mNone\u001b[0m \u001b[0;32melse\u001b[0m \u001b[0;34m\"\"\u001b[0m\u001b[0;34m)\u001b[0m\u001b[0;34m\u001b[0m\u001b[0;34m\u001b[0m\u001b[0m\n\u001b[1;32m   6861\u001b[0m   \u001b[0;31m# pylint: disable=protected-access\u001b[0m\u001b[0;34m\u001b[0m\u001b[0;34m\u001b[0m\u001b[0;34m\u001b[0m\u001b[0m\n\u001b[0;32m-> 6862\u001b[0;31m   \u001b[0msix\u001b[0m\u001b[0;34m.\u001b[0m\u001b[0mraise_from\u001b[0m\u001b[0;34m(\u001b[0m\u001b[0mcore\u001b[0m\u001b[0;34m.\u001b[0m\u001b[0m_status_to_exception\u001b[0m\u001b[0;34m(\u001b[0m\u001b[0me\u001b[0m\u001b[0;34m.\u001b[0m\u001b[0mcode\u001b[0m\u001b[0;34m,\u001b[0m \u001b[0mmessage\u001b[0m\u001b[0;34m)\u001b[0m\u001b[0;34m,\u001b[0m \u001b[0;32mNone\u001b[0m\u001b[0;34m)\u001b[0m\u001b[0;34m\u001b[0m\u001b[0;34m\u001b[0m\u001b[0m\n\u001b[0m\u001b[1;32m   6863\u001b[0m   \u001b[0;31m# pylint: enable=protected-access\u001b[0m\u001b[0;34m\u001b[0m\u001b[0;34m\u001b[0m\u001b[0;34m\u001b[0m\u001b[0m\n\u001b[1;32m   6864\u001b[0m \u001b[0;34m\u001b[0m\u001b[0m\n",
            "\u001b[0;32m/usr/local/lib/python3.6/dist-packages/six.py\u001b[0m in \u001b[0;36mraise_from\u001b[0;34m(value, from_value)\u001b[0m\n",
            "\u001b[0;31mInvalidArgumentError\u001b[0m: cannot compute Mul as input #1(zero-based) was expected to be a float tensor but is a double tensor [Op:Mul]"
          ]
        }
      ]
    },
    {
      "cell_type": "code",
      "metadata": {
        "colab": {
          "base_uri": "https://localhost:8080/"
        },
        "id": "MbIMYlbjfuBc",
        "outputId": "40d16a00-c378-4de0-bfcd-69bc1f76f378"
      },
      "source": [
        "type(tf.float64)"
      ],
      "execution_count": 9,
      "outputs": [
        {
          "output_type": "execute_result",
          "data": {
            "text/plain": [
              "tensorflow.python.framework.dtypes.DType"
            ]
          },
          "metadata": {
            "tags": []
          },
          "execution_count": 9
        }
      ]
    },
    {
      "cell_type": "code",
      "metadata": {
        "id": "NZRbafP_s5vU",
        "colab": {
          "base_uri": "https://localhost:8080/"
        },
        "outputId": "4ac04159-04be-4eab-a294-862fbb2a1ae7"
      },
      "source": [
        "mean_price, std_error_price"
      ],
      "execution_count": 72,
      "outputs": [
        {
          "output_type": "execute_result",
          "data": {
            "text/plain": [
              "(<tf.Tensor: shape=(), dtype=float64, numpy=3.920910552809718>,\n",
              " <tf.Tensor: shape=(), dtype=float64, numpy=0.0017887701872722663>)"
            ]
          },
          "metadata": {
            "tags": []
          },
          "execution_count": 72
        }
      ]
    },
    {
      "cell_type": "markdown",
      "metadata": {
        "id": "k79cl9tzmu9D"
      },
      "source": [
        "## 3.4 - Vectorized Monte Carlo / PyTorch"
      ]
    },
    {
      "cell_type": "code",
      "metadata": {
        "id": "hhXjAm0I4EEf"
      },
      "source": [
        "# For PyTorch tensor operations and random numbers, see:\n",
        "# https://pytorch.org/docs/stable/torch.html#torch.randn\n",
        "import torch\n",
        "import numpy as np"
      ],
      "execution_count": 1,
      "outputs": []
    },
    {
      "cell_type": "code",
      "metadata": {
        "id": "4XtGfkbMlmHF",
        "colab": {
          "base_uri": "https://localhost:8080/",
          "height": 57
        },
        "outputId": "a03eac6b-2129-41b0-fa46-7c1bf098192f"
      },
      "source": [
        "torch.__version__"
      ],
      "execution_count": 2,
      "outputs": [
        {
          "output_type": "execute_result",
          "data": {
            "application/vnd.google.colaboratory.intrinsic+json": {
              "type": "string"
            },
            "text/plain": [
              "'1.7.0+cu101'"
            ]
          },
          "metadata": {
            "tags": []
          },
          "execution_count": 2
        }
      ]
    },
    {
      "cell_type": "code",
      "metadata": {
        "id": "4mcHujTtL3Ks"
      },
      "source": [
        "device = torch.device(\"cuda:0\" if torch.cuda.is_available() else \"cpu\")"
      ],
      "execution_count": 3,
      "outputs": []
    },
    {
      "cell_type": "code",
      "metadata": {
        "colab": {
          "base_uri": "https://localhost:8080/"
        },
        "id": "TAZSIQl_MRIm",
        "outputId": "48924a26-8fc4-4b94-c34a-0c53dced46d8"
      },
      "source": [
        "device"
      ],
      "execution_count": 4,
      "outputs": [
        {
          "output_type": "execute_result",
          "data": {
            "text/plain": [
              "device(type='cuda', index=0)"
            ]
          },
          "metadata": {
            "tags": []
          },
          "execution_count": 4
        }
      ]
    },
    {
      "cell_type": "code",
      "metadata": {
        "id": "0XRanvdjMSf7"
      },
      "source": [
        "torch.cuda.get_device_name(0)"
      ],
      "execution_count": null,
      "outputs": []
    },
    {
      "cell_type": "code",
      "metadata": {
        "id": "RJ_bXsacpItL"
      },
      "source": [
        "torch.manual_seed(42)\n",
        "torch.cuda.manual_seed(42)"
      ],
      "execution_count": 6,
      "outputs": []
    },
    {
      "cell_type": "code",
      "metadata": {
        "id": "eCf0eMzVmZES"
      },
      "source": [
        "N = 1000    # Number of time steps\n",
        "n = 10000000  # Number of MC paths (1,000,000  50sec on Colab CPU, 20sec GPU)\n",
        "\n",
        "S0 = 100.   # Initial price of share of stock\n",
        "K = 100.    # Strike price of option\n",
        "v0 = 0.01   # Initial volatility\n",
        "th = 0.01   # Long time average of volatility\n",
        "k = 2.      # kappa mean reversion speed\n",
        "sig = 0.1   # vol of vol\n",
        "\n",
        "rho = -.5   # correlation coefficient of Z' and Z\n",
        "T = 1.      # expiration time from today\n",
        "\n",
        "dt = T/N    # Time step"
      ],
      "execution_count": 18,
      "outputs": []
    },
    {
      "cell_type": "code",
      "metadata": {
        "id": "NbGqzZfsm5iy"
      },
      "source": [
        "# See the human readable version if this code below\n",
        "# This is the fast version with less CPU GPU interaction\n",
        "# Integrate equations:\n",
        "#   Euler method\n",
        "#   MC vectorized\n",
        "vt = v0 * torch.ones(n, dtype=torch.double).to(device)\n",
        "St = S0 * torch.ones_like(vt)\n",
        "Zs = torch.randn_like(vt) # Dummy Zs that changes on every iteration\n",
        "Zv = torch.randn_like(vt) # Dummy Zs that changes on every iteration\n",
        "sqrtOneMRho = np.sqrt(1 - rho**2.)\n",
        "for t in range(1,N):  # Generate MC paths\n",
        "\n",
        "  Zs.normal_()  # Generate new rnd numbers in place (??? rnd gen) for S_t process\n",
        "  Zv.normal_().mul_(rho).add_(Zs, alpha=sqrtOneMRho)   # Rnd numbers for v_t process\n",
        "\n",
        "  # Euler integration\n",
        "  vt.clamp_(min=0.)\n",
        "  vtmdt = vt.mul(dt)\n",
        "  sqrtvtmdt = vtmdt.sqrt()\n",
        "  # St = St * torch.exp( torch.sqrt(vt * dt) * Zs - vt * dt / 2.)  # Stock price process\n",
        "  St.mul_(Zs.mul_(sqrtvtmdt).add_(vtmdt, alpha=-0.5).exp_())\n",
        "  # vt = vt + k * (th - vt) * dt + sig * torch.sqrt(vt * dt) * Zv  # Volatility process\n",
        "  vt.add_(Zv.mul_(sqrtvtmdt).mul_(sig).add_(vtmdt, alpha=-k).add_(k*th*dt))\n",
        "\n",
        "# mean_price = torch.mean(torch.max(St - K, torch.zeros(n)))\n",
        "maxim = St.add(K, alpha=-1.0).clamp(min=0.)\n",
        "mean_price = torch.mean(maxim)\n",
        "# std_error_price  = torch.std(torch.max(St - K, torch.zeros(n))) / np.sqrt(float(n))\n",
        "std_error_price  = torch.std(maxim) / np.sqrt(float(n))"
      ],
      "execution_count": 74,
      "outputs": []
    },
    {
      "cell_type": "code",
      "metadata": {
        "id": "a2YWZLdAcsWy"
      },
      "source": [
        "# Human readable but slower code\n",
        "# Integrate equations:\n",
        "#   Euler method\n",
        "#   MC vectorized\n",
        "\n",
        "# vt = torch.ones(n) * v0\n",
        "# St = torch.ones(n) * S0\n",
        "# for t in range(1,N):  # Generate MC paths\n",
        "\n",
        "#   Zs = torch.randn(n)  # Generate rnd numbers (??? rnd gen) for S_t process\n",
        "#   Zv = rho * Zs + np.sqrt(1 - rho**2.) * torch.randn(n)  # Rnd numbers for v_t process\n",
        "\n",
        "#   # Euler integration\n",
        "#   vt = torch.max(vt, torch.zeros(n))\n",
        "#   St = St * torch.exp( torch.sqrt(vt * dt) * Zs - vt * dt / 2.)     # Stock price process\n",
        "#   vt = vt + k * (th - vt) * dt + sig * torch.sqrt(vt * dt) * Zv  # Volatility process\n",
        "\n",
        "# mean_price = torch.mean(torch.max(St - K, torch.zeros(n)))\n",
        "# std_error_price  = torch.std(torch.max(St - K, torch.zeros(n))) / np.sqrt(float(n))"
      ],
      "execution_count": 40,
      "outputs": []
    },
    {
      "cell_type": "code",
      "metadata": {
        "id": "2W-6a9xhoFQs",
        "colab": {
          "base_uri": "https://localhost:8080/"
        },
        "outputId": "29542bcc-26d1-4742-9067-3a4b6d661c77"
      },
      "source": [
        "mean_price, std_error_price"
      ],
      "execution_count": 41,
      "outputs": [
        {
          "output_type": "execute_result",
          "data": {
            "text/plain": [
              "(tensor(3.9523, device='cuda:0', dtype=torch.float64),\n",
              " tensor(0.0023, device='cuda:0', dtype=torch.float64))"
            ]
          },
          "metadata": {
            "tags": []
          },
          "execution_count": 41
        }
      ]
    },
    {
      "cell_type": "code",
      "metadata": {
        "id": "dJ3VzyOscOfy"
      },
      "source": [
        ""
      ],
      "execution_count": null,
      "outputs": []
    },
    {
      "cell_type": "markdown",
      "metadata": {
        "id": "qRfAhkv9E-Gn"
      },
      "source": [
        "# 4 - Quantum computer code example"
      ]
    },
    {
      "cell_type": "markdown",
      "metadata": {
        "id": "ED50W-qgDjST"
      },
      "source": [
        "TODO: Write a little quantum intro. Write code to run on D-Wave's quantum computer."
      ]
    },
    {
      "cell_type": "markdown",
      "metadata": {
        "id": "tSH3gh1_FDdA"
      },
      "source": [
        "# 5 - Pricing in reinforcement learning framework"
      ]
    },
    {
      "cell_type": "markdown",
      "metadata": {
        "id": "JSnuRGm4Dq5N"
      },
      "source": [
        "TODO: Translate dynamic hedging finance language to reinforcement learning language. Write Reinforcement-based code to price options. See [Ritter & Kolm 2018]"
      ]
    },
    {
      "cell_type": "markdown",
      "metadata": {
        "id": "0VLsrLngxONf"
      },
      "source": [
        "# References\n",
        "[  ] Alfonsi, Aurélien (2010) High order discretization schemes for the CIR process: application to Affine Term Structure and Heston models. Mathematics of Computation, American Mathematical Society, 2010, 79 (269), pp.209-237. 10.1090/S0025-5718-09-02252-2 . hal-00143723v5 See also https://hal.archives-ouvertes.fr/hal-00143723v5/document\n",
        "\n",
        "[  ] Black, F. and Scholes, M. (1973) The pricing of options and corporate liabilities, J. Polit. Econ. **81** 637-658\n",
        "\n",
        "[  ] Boltzmann, L. (1872) Weitere Studien über das Wärmegleichgewicht unter Gasmolekülen [Further studies on heat equilibrium among gas molecules], Wiener Berichte, 66: 275–370; in WA I, paper 23. See also https://plato.stanford.edu/entries/statphys-Boltzmann/ on the Boltzmann equation\n",
        "\n",
        "[  ] Einstein, A. (1905) \n",
        "\n",
        "[  ] Maruyama, Gisiro  (1953) Markov processes and stochastic equations, Natural Science Report, Ochanomizu University **4** 40–43.\n",
        "\n",
        "[  ] Merton, Robert C. (1969) Lifetime portfolio selection under uncertainty: the continuous-time case, Rev. Econ. Stat. **51**, 247-257.\n",
        "\n",
        "[  ] Merton, Robert C. (1973) Theory of rational option pricing, Bell J. Econ. Manage. Sci. **4**, \n",
        "141-183.\n",
        "\n",
        "[  ] Ritter, Gordon and Kolm, Petter N.  (2018) Dynamic Replication and Hedging: A Reinforcement Learning Approach, https://papers.ssrn.com/sol3/papers.cfm?abstract_id=3281235"
      ]
    },
    {
      "cell_type": "code",
      "metadata": {
        "id": "r_65Mbgx7OsG"
      },
      "source": [
        ""
      ],
      "execution_count": null,
      "outputs": []
    }
  ]
}